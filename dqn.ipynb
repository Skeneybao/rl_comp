{
 "cells": [
  {
   "cell_type": "markdown",
   "metadata": {
    "colab_type": "text",
    "id": "view-in-github"
   },
   "source": [
    "<a href=\"https://colab.research.google.com/github/Skeneybao/rl_comp/blob/main/dqn.ipynb\" target=\"_parent\"><img src=\"https://colab.research.google.com/assets/colab-badge.svg\" alt=\"Open In Colab\"/></a>"
   ]
  },
  {
   "cell_type": "code",
   "execution_count": 1,
   "metadata": {
    "ExecuteTime": {
     "end_time": "2024-01-02T11:43:08.721457Z",
     "start_time": "2024-01-02T11:43:08.490922Z"
    },
    "id": "Wd0SRH3-yAeD"
   },
   "outputs": [],
   "source": [
    "import pandas as pd\n",
    "import numpy as np"
   ]
  },
  {
   "cell_type": "code",
   "execution_count": 2,
   "metadata": {
    "ExecuteTime": {
     "end_time": "2024-01-02T11:43:09.428539Z",
     "start_time": "2024-01-02T11:43:08.749583Z"
    },
    "id": "cwjOeW7ozDl1"
   },
   "outputs": [
    {
     "name": "stderr",
     "output_type": "stream",
     "text": [
      "/home/rl-comp/miniconda3/envs/stock-venv/lib/python3.7/site-packages/tqdm/auto.py:21: TqdmWarning: IProgress not found. Please update jupyter and ipywidgets. See https://ipywidgets.readthedocs.io/en/stable/user_install.html\n",
      "  from .autonotebook import tqdm as notebook_tqdm\n"
     ]
    },
    {
     "name": "stdout",
     "output_type": "stream",
     "text": [
      "/home/rl-comp/Git/rl_comp\n"
     ]
    }
   ],
   "source": [
    "from training.env.trainingEnv import TrainingStockEnv"
   ]
  },
  {
   "cell_type": "code",
   "execution_count": 65,
   "metadata": {
    "ExecuteTime": {
     "end_time": "2024-01-02T12:10:22.593355Z",
     "start_time": "2024-01-02T12:10:22.426803Z"
    }
   },
   "outputs": [
    {
     "name": "stdout",
     "output_type": "stream",
     "text": [
      "2024-01-02 12:10:22,590 - rl-comp - INFO - reset done, old data length: 0, new data length: 1394888, current step count: 0, step done in this episode: 0\n"
     ]
    },
    {
     "data": {
      "text/plain": [
       "{'serverTime': 93000252.0,\n",
       " 'eventTime': 93000450.0,\n",
       " 'code': 1.0,\n",
       " 'signal0': 0.15391234968747913,\n",
       " 'signal1': 0.0,\n",
       " 'signal2': 0.0,\n",
       " 'ap0': 2597.712,\n",
       " 'bp0': 2595.4809999999998,\n",
       " 'av0': 5.0,\n",
       " 'bv0': 5.0,\n",
       " 'ap1': 2600.0119999999997,\n",
       " 'bp1': 2592.698,\n",
       " 'av1': 10.0,\n",
       " 'bv1': 1.0,\n",
       " 'ap2': 2604.014,\n",
       " 'bp2': 2591.87,\n",
       " 'av2': 1.0,\n",
       " 'bv2': 1.0,\n",
       " 'ap3': 2605.371,\n",
       " 'bp3': 2589.823,\n",
       " 'av3': 1.0,\n",
       " 'bv3': 5.0,\n",
       " 'ap4': 2605.9,\n",
       " 'bp4': 2589.7999999999997,\n",
       " 'av4': 1.0,\n",
       " 'bv4': 1.0,\n",
       " 'code_net_position': 0,\n",
       " 'ap0_t0': 2597.712,\n",
       " 'code_pnl': 0.0,\n",
       " 'code_cash_pnl': 0.0,\n",
       " 'code_positional_pnl': 0.0,\n",
       " 'code_handling_fee': 0.0,\n",
       " 'day_pnl': 0.0,\n",
       " 'day_handling_fee': 0.0}"
      ]
     },
     "execution_count": 65,
     "metadata": {},
     "output_type": "execute_result"
    }
   ],
   "source": [
    "env = TrainingStockEnv()\n",
    "obs, _ , _ = env.reset()\n",
    "obs"
   ]
  },
  {
   "cell_type": "code",
   "execution_count": 66,
   "metadata": {
    "ExecuteTime": {
     "end_time": "2024-01-02T12:10:22.661061Z",
     "start_time": "2024-01-02T12:10:22.654461Z"
    }
   },
   "outputs": [
    {
     "data": {
      "text/plain": [
       "12477.086"
      ]
     },
     "execution_count": 66,
     "metadata": {},
     "output_type": "execute_result"
    }
   ],
   "source": [
    "np.max(env._parquetFile.data['bidPx1'])"
   ]
  },
  {
   "cell_type": "code",
   "execution_count": 67,
   "metadata": {
    "ExecuteTime": {
     "end_time": "2024-01-02T12:10:23.047820Z",
     "start_time": "2024-01-02T12:10:23.041172Z"
    }
   },
   "outputs": [
    {
     "data": {
      "text/plain": [
       "1725.0"
      ]
     },
     "execution_count": 67,
     "metadata": {},
     "output_type": "execute_result"
    }
   ],
   "source": [
    "np.min(env._parquetFile.data['bidPx1'])"
   ]
  },
  {
   "cell_type": "code",
   "execution_count": 13,
   "metadata": {
    "ExecuteTime": {
     "end_time": "2024-01-02T12:01:08.499615Z",
     "start_time": "2024-01-02T12:01:08.414317Z"
    }
   },
   "outputs": [
    {
     "data": {
      "text/html": [
       "<div>\n",
       "<style scoped>\n",
       "    .dataframe tbody tr th:only-of-type {\n",
       "        vertical-align: middle;\n",
       "    }\n",
       "\n",
       "    .dataframe tbody tr th {\n",
       "        vertical-align: top;\n",
       "    }\n",
       "\n",
       "    .dataframe thead th {\n",
       "        text-align: right;\n",
       "    }\n",
       "</style>\n",
       "<table border=\"1\" class=\"dataframe\">\n",
       "  <thead>\n",
       "    <tr style=\"text-align: right;\">\n",
       "      <th></th>\n",
       "      <th>serverTime</th>\n",
       "      <th>bidPx1</th>\n",
       "      <th>bidPx2</th>\n",
       "      <th>bidPx3</th>\n",
       "      <th>bidPx4</th>\n",
       "      <th>bidPx5</th>\n",
       "      <th>bidVlm1</th>\n",
       "      <th>bidVlm2</th>\n",
       "      <th>bidVlm3</th>\n",
       "      <th>bidVlm4</th>\n",
       "      <th>...</th>\n",
       "      <th>askVlm1</th>\n",
       "      <th>askV1m2</th>\n",
       "      <th>askVlm3</th>\n",
       "      <th>askV1m4</th>\n",
       "      <th>askV1m5</th>\n",
       "      <th>code</th>\n",
       "      <th>signal0</th>\n",
       "      <th>signal1</th>\n",
       "      <th>signal2</th>\n",
       "      <th>eventTime</th>\n",
       "    </tr>\n",
       "  </thead>\n",
       "  <tbody>\n",
       "    <tr>\n",
       "      <th>0</th>\n",
       "      <td>93000368.0</td>\n",
       "      <td>2596.700</td>\n",
       "      <td>2593.250</td>\n",
       "      <td>2592.560</td>\n",
       "      <td>2592.261</td>\n",
       "      <td>2591.870</td>\n",
       "      <td>72.0</td>\n",
       "      <td>1.0</td>\n",
       "      <td>77.0</td>\n",
       "      <td>8.0</td>\n",
       "      <td>...</td>\n",
       "      <td>11.0</td>\n",
       "      <td>3.0</td>\n",
       "      <td>1.0</td>\n",
       "      <td>2.0</td>\n",
       "      <td>1.0</td>\n",
       "      <td>1.0</td>\n",
       "      <td>0.344240</td>\n",
       "      <td>0.000000</td>\n",
       "      <td>0.000000</td>\n",
       "      <td>93000370.0</td>\n",
       "    </tr>\n",
       "    <tr>\n",
       "      <th>57</th>\n",
       "      <td>93004667.0</td>\n",
       "      <td>2600.886</td>\n",
       "      <td>2599.023</td>\n",
       "      <td>2597.160</td>\n",
       "      <td>2596.746</td>\n",
       "      <td>2596.700</td>\n",
       "      <td>4.0</td>\n",
       "      <td>2.0</td>\n",
       "      <td>50.0</td>\n",
       "      <td>23.0</td>\n",
       "      <td>...</td>\n",
       "      <td>4.0</td>\n",
       "      <td>1.0</td>\n",
       "      <td>6.0</td>\n",
       "      <td>2.0</td>\n",
       "      <td>1.0</td>\n",
       "      <td>1.0</td>\n",
       "      <td>-0.970187</td>\n",
       "      <td>-4.802319</td>\n",
       "      <td>-3.957109</td>\n",
       "      <td>93005260.0</td>\n",
       "    </tr>\n",
       "    <tr>\n",
       "      <th>104</th>\n",
       "      <td>93010175.0</td>\n",
       "      <td>2600.932</td>\n",
       "      <td>2600.886</td>\n",
       "      <td>2599.023</td>\n",
       "      <td>2597.160</td>\n",
       "      <td>2596.746</td>\n",
       "      <td>17.0</td>\n",
       "      <td>6.0</td>\n",
       "      <td>2.0</td>\n",
       "      <td>50.0</td>\n",
       "      <td>...</td>\n",
       "      <td>1.0</td>\n",
       "      <td>9.0</td>\n",
       "      <td>2.0</td>\n",
       "      <td>1.0</td>\n",
       "      <td>1.0</td>\n",
       "      <td>1.0</td>\n",
       "      <td>-0.819007</td>\n",
       "      <td>-2.401090</td>\n",
       "      <td>-1.978530</td>\n",
       "      <td>93010210.0</td>\n",
       "    </tr>\n",
       "    <tr>\n",
       "      <th>134</th>\n",
       "      <td>93014424.0</td>\n",
       "      <td>2600.932</td>\n",
       "      <td>2600.886</td>\n",
       "      <td>2599.023</td>\n",
       "      <td>2597.160</td>\n",
       "      <td>2596.746</td>\n",
       "      <td>18.0</td>\n",
       "      <td>4.0</td>\n",
       "      <td>2.0</td>\n",
       "      <td>50.0</td>\n",
       "      <td>...</td>\n",
       "      <td>1.0</td>\n",
       "      <td>9.0</td>\n",
       "      <td>2.0</td>\n",
       "      <td>1.0</td>\n",
       "      <td>1.0</td>\n",
       "      <td>1.0</td>\n",
       "      <td>-0.161213</td>\n",
       "      <td>-2.401017</td>\n",
       "      <td>-1.978510</td>\n",
       "      <td>93015000.0</td>\n",
       "    </tr>\n",
       "    <tr>\n",
       "      <th>172</th>\n",
       "      <td>93019924.0</td>\n",
       "      <td>2602.059</td>\n",
       "      <td>2602.013</td>\n",
       "      <td>2599.736</td>\n",
       "      <td>2599.138</td>\n",
       "      <td>2599.092</td>\n",
       "      <td>7.0</td>\n",
       "      <td>49.0</td>\n",
       "      <td>3.0</td>\n",
       "      <td>16.0</td>\n",
       "      <td>...</td>\n",
       "      <td>1.0</td>\n",
       "      <td>1.0</td>\n",
       "      <td>3.0</td>\n",
       "      <td>5.0</td>\n",
       "      <td>4.0</td>\n",
       "      <td>1.0</td>\n",
       "      <td>0.343426</td>\n",
       "      <td>-2.400993</td>\n",
       "      <td>-1.978495</td>\n",
       "      <td>93020120.0</td>\n",
       "    </tr>\n",
       "    <tr>\n",
       "      <th>...</th>\n",
       "      <td>...</td>\n",
       "      <td>...</td>\n",
       "      <td>...</td>\n",
       "      <td>...</td>\n",
       "      <td>...</td>\n",
       "      <td>...</td>\n",
       "      <td>...</td>\n",
       "      <td>...</td>\n",
       "      <td>...</td>\n",
       "      <td>...</td>\n",
       "      <td>...</td>\n",
       "      <td>...</td>\n",
       "      <td>...</td>\n",
       "      <td>...</td>\n",
       "      <td>...</td>\n",
       "      <td>...</td>\n",
       "      <td>...</td>\n",
       "      <td>...</td>\n",
       "      <td>...</td>\n",
       "      <td>...</td>\n",
       "      <td>...</td>\n",
       "    </tr>\n",
       "    <tr>\n",
       "      <th>15329105</th>\n",
       "      <td>145659502.0</td>\n",
       "      <td>2697.164</td>\n",
       "      <td>2697.049</td>\n",
       "      <td>2696.888</td>\n",
       "      <td>2696.750</td>\n",
       "      <td>2696.612</td>\n",
       "      <td>2.0</td>\n",
       "      <td>3.0</td>\n",
       "      <td>2.0</td>\n",
       "      <td>265.0</td>\n",
       "      <td>...</td>\n",
       "      <td>8.0</td>\n",
       "      <td>5.0</td>\n",
       "      <td>4.0</td>\n",
       "      <td>10.0</td>\n",
       "      <td>6.0</td>\n",
       "      <td>520.0</td>\n",
       "      <td>0.248847</td>\n",
       "      <td>0.960958</td>\n",
       "      <td>0.159293</td>\n",
       "      <td>145942000.0</td>\n",
       "    </tr>\n",
       "    <tr>\n",
       "      <th>15329106</th>\n",
       "      <td>145659502.0</td>\n",
       "      <td>2697.164</td>\n",
       "      <td>2697.049</td>\n",
       "      <td>2696.888</td>\n",
       "      <td>2696.750</td>\n",
       "      <td>2696.612</td>\n",
       "      <td>2.0</td>\n",
       "      <td>3.0</td>\n",
       "      <td>2.0</td>\n",
       "      <td>265.0</td>\n",
       "      <td>...</td>\n",
       "      <td>8.0</td>\n",
       "      <td>5.0</td>\n",
       "      <td>4.0</td>\n",
       "      <td>10.0</td>\n",
       "      <td>6.0</td>\n",
       "      <td>520.0</td>\n",
       "      <td>0.248847</td>\n",
       "      <td>0.975175</td>\n",
       "      <td>0.159293</td>\n",
       "      <td>145945000.0</td>\n",
       "    </tr>\n",
       "    <tr>\n",
       "      <th>15329110</th>\n",
       "      <td>145659502.0</td>\n",
       "      <td>2697.164</td>\n",
       "      <td>2697.049</td>\n",
       "      <td>2696.888</td>\n",
       "      <td>2696.750</td>\n",
       "      <td>2696.612</td>\n",
       "      <td>2.0</td>\n",
       "      <td>3.0</td>\n",
       "      <td>2.0</td>\n",
       "      <td>265.0</td>\n",
       "      <td>...</td>\n",
       "      <td>8.0</td>\n",
       "      <td>5.0</td>\n",
       "      <td>4.0</td>\n",
       "      <td>10.0</td>\n",
       "      <td>6.0</td>\n",
       "      <td>520.0</td>\n",
       "      <td>0.248847</td>\n",
       "      <td>1.093950</td>\n",
       "      <td>0.167031</td>\n",
       "      <td>145951000.0</td>\n",
       "    </tr>\n",
       "    <tr>\n",
       "      <th>15329115</th>\n",
       "      <td>145659502.0</td>\n",
       "      <td>2697.164</td>\n",
       "      <td>2697.049</td>\n",
       "      <td>2696.888</td>\n",
       "      <td>2696.750</td>\n",
       "      <td>2696.612</td>\n",
       "      <td>2.0</td>\n",
       "      <td>3.0</td>\n",
       "      <td>2.0</td>\n",
       "      <td>265.0</td>\n",
       "      <td>...</td>\n",
       "      <td>8.0</td>\n",
       "      <td>5.0</td>\n",
       "      <td>4.0</td>\n",
       "      <td>10.0</td>\n",
       "      <td>6.0</td>\n",
       "      <td>520.0</td>\n",
       "      <td>0.248847</td>\n",
       "      <td>1.146448</td>\n",
       "      <td>0.318655</td>\n",
       "      <td>145957000.0</td>\n",
       "    </tr>\n",
       "    <tr>\n",
       "      <th>15329117</th>\n",
       "      <td>145659502.0</td>\n",
       "      <td>2697.164</td>\n",
       "      <td>2697.049</td>\n",
       "      <td>2696.888</td>\n",
       "      <td>2696.750</td>\n",
       "      <td>2696.612</td>\n",
       "      <td>2.0</td>\n",
       "      <td>3.0</td>\n",
       "      <td>2.0</td>\n",
       "      <td>265.0</td>\n",
       "      <td>...</td>\n",
       "      <td>8.0</td>\n",
       "      <td>5.0</td>\n",
       "      <td>4.0</td>\n",
       "      <td>10.0</td>\n",
       "      <td>6.0</td>\n",
       "      <td>520.0</td>\n",
       "      <td>0.248847</td>\n",
       "      <td>1.131888</td>\n",
       "      <td>0.318444</td>\n",
       "      <td>150000000.0</td>\n",
       "    </tr>\n",
       "  </tbody>\n",
       "</table>\n",
       "<p>1403534 rows × 26 columns</p>\n",
       "</div>"
      ],
      "text/plain": [
       "           serverTime    bidPx1    bidPx2    bidPx3    bidPx4    bidPx5  \\\n",
       "0          93000368.0  2596.700  2593.250  2592.560  2592.261  2591.870   \n",
       "57         93004667.0  2600.886  2599.023  2597.160  2596.746  2596.700   \n",
       "104        93010175.0  2600.932  2600.886  2599.023  2597.160  2596.746   \n",
       "134        93014424.0  2600.932  2600.886  2599.023  2597.160  2596.746   \n",
       "172        93019924.0  2602.059  2602.013  2599.736  2599.138  2599.092   \n",
       "...               ...       ...       ...       ...       ...       ...   \n",
       "15329105  145659502.0  2697.164  2697.049  2696.888  2696.750  2696.612   \n",
       "15329106  145659502.0  2697.164  2697.049  2696.888  2696.750  2696.612   \n",
       "15329110  145659502.0  2697.164  2697.049  2696.888  2696.750  2696.612   \n",
       "15329115  145659502.0  2697.164  2697.049  2696.888  2696.750  2696.612   \n",
       "15329117  145659502.0  2697.164  2697.049  2696.888  2696.750  2696.612   \n",
       "\n",
       "          bidVlm1  bidVlm2  bidVlm3  bidVlm4  ...  askVlm1  askV1m2  askVlm3  \\\n",
       "0            72.0      1.0     77.0      8.0  ...     11.0      3.0      1.0   \n",
       "57            4.0      2.0     50.0     23.0  ...      4.0      1.0      6.0   \n",
       "104          17.0      6.0      2.0     50.0  ...      1.0      9.0      2.0   \n",
       "134          18.0      4.0      2.0     50.0  ...      1.0      9.0      2.0   \n",
       "172           7.0     49.0      3.0     16.0  ...      1.0      1.0      3.0   \n",
       "...           ...      ...      ...      ...  ...      ...      ...      ...   \n",
       "15329105      2.0      3.0      2.0    265.0  ...      8.0      5.0      4.0   \n",
       "15329106      2.0      3.0      2.0    265.0  ...      8.0      5.0      4.0   \n",
       "15329110      2.0      3.0      2.0    265.0  ...      8.0      5.0      4.0   \n",
       "15329115      2.0      3.0      2.0    265.0  ...      8.0      5.0      4.0   \n",
       "15329117      2.0      3.0      2.0    265.0  ...      8.0      5.0      4.0   \n",
       "\n",
       "          askV1m4  askV1m5   code   signal0   signal1   signal2    eventTime  \n",
       "0             2.0      1.0    1.0  0.344240  0.000000  0.000000   93000370.0  \n",
       "57            2.0      1.0    1.0 -0.970187 -4.802319 -3.957109   93005260.0  \n",
       "104           1.0      1.0    1.0 -0.819007 -2.401090 -1.978530   93010210.0  \n",
       "134           1.0      1.0    1.0 -0.161213 -2.401017 -1.978510   93015000.0  \n",
       "172           5.0      4.0    1.0  0.343426 -2.400993 -1.978495   93020120.0  \n",
       "...           ...      ...    ...       ...       ...       ...          ...  \n",
       "15329105     10.0      6.0  520.0  0.248847  0.960958  0.159293  145942000.0  \n",
       "15329106     10.0      6.0  520.0  0.248847  0.975175  0.159293  145945000.0  \n",
       "15329110     10.0      6.0  520.0  0.248847  1.093950  0.167031  145951000.0  \n",
       "15329115     10.0      6.0  520.0  0.248847  1.146448  0.318655  145957000.0  \n",
       "15329117     10.0      6.0  520.0  0.248847  1.131888  0.318444  150000000.0  \n",
       "\n",
       "[1403534 rows x 26 columns]"
      ]
     },
     "execution_count": 13,
     "metadata": {},
     "output_type": "execute_result"
    }
   ],
   "source": [
    "env._parquetFile.data"
   ]
  },
  {
   "cell_type": "code",
   "execution_count": 19,
   "metadata": {
    "ExecuteTime": {
     "end_time": "2024-01-02T12:06:51.880871Z",
     "start_time": "2024-01-02T12:06:51.875758Z"
    }
   },
   "outputs": [
    {
     "data": {
      "text/plain": [
       "0.6975073419679484"
      ]
     },
     "execution_count": 19,
     "metadata": {},
     "output_type": "execute_result"
    }
   ],
   "source": [
    "np.log(1000) / np.log(20000)"
   ]
  },
  {
   "cell_type": "code",
   "execution_count": 18,
   "metadata": {
    "ExecuteTime": {
     "end_time": "2024-01-02T12:06:36.683767Z",
     "start_time": "2024-01-02T12:06:36.678011Z"
    }
   },
   "outputs": [
    {
     "data": {
      "text/plain": [
       "0.9484196227787275"
      ]
     },
     "execution_count": 18,
     "metadata": {},
     "output_type": "execute_result"
    }
   ],
   "source": [
    "np.log(12000) / np.log(20000)"
   ]
  },
  {
   "cell_type": "code",
   "execution_count": 71,
   "metadata": {
    "ExecuteTime": {
     "end_time": "2024-01-02T12:15:33.204787Z",
     "start_time": "2024-01-02T12:15:33.200472Z"
    }
   },
   "outputs": [],
   "source": [
    "a = [1,2,3,*[4,5,6]]"
   ]
  },
  {
   "cell_type": "code",
   "execution_count": 72,
   "metadata": {
    "ExecuteTime": {
     "end_time": "2024-01-02T12:15:36.739619Z",
     "start_time": "2024-01-02T12:15:36.734874Z"
    }
   },
   "outputs": [
    {
     "data": {
      "text/plain": [
       "[1, 2, 3, 4, 5, 6]"
      ]
     },
     "execution_count": 72,
     "metadata": {},
     "output_type": "execute_result"
    }
   ],
   "source": [
    "a"
   ]
  },
  {
   "cell_type": "code",
   "execution_count": 74,
   "metadata": {
    "ExecuteTime": {
     "end_time": "2024-01-03T06:42:54.741852Z",
     "start_time": "2024-01-03T06:42:50.955300Z"
    }
   },
   "outputs": [],
   "source": [
    "import json\n",
    "f = '/home/rl-comp/Git/rl_comp/logs/202401030632_kafang_stock.json'\n",
    "with open(f, 'r') as file:\n",
    "    data = json.load(file)"
   ]
  },
  {
   "cell_type": "code",
   "execution_count": 77,
   "metadata": {
    "ExecuteTime": {
     "end_time": "2024-01-03T06:43:44.289122Z",
     "start_time": "2024-01-03T06:43:44.283577Z"
    }
   },
   "outputs": [
    {
     "data": {
      "text/plain": [
       "dict_keys(['game_name', 'n_player', 'board_height', 'board_width', 'init_info', 'start_time', 'mode', 'seed', 'map_size', 'steps', 'winner', 'winner_information', 'n_return', 'end_time'])"
      ]
     },
     "execution_count": 77,
     "metadata": {},
     "output_type": "execute_result"
    }
   ],
   "source": [
    "data.keys()"
   ]
  },
  {
   "cell_type": "code",
   "execution_count": 80,
   "metadata": {
    "ExecuteTime": {
     "end_time": "2024-01-03T06:44:04.545649Z",
     "start_time": "2024-01-03T06:44:04.540556Z"
    }
   },
   "outputs": [
    {
     "data": {
      "text/plain": [
       "[2130910.7909019333]"
      ]
     },
     "execution_count": 80,
     "metadata": {},
     "output_type": "execute_result"
    }
   ],
   "source": [
    "data['n_return']"
   ]
  },
  {
   "cell_type": "code",
   "execution_count": null,
   "metadata": {},
   "outputs": [],
   "source": []
  }
 ],
 "metadata": {
  "colab": {
   "authorship_tag": "ABX9TyPMt5xfy+0azi+nPhABTSL0",
   "include_colab_link": true,
   "provenance": [],
   "toc_visible": true
  },
  "kernelspec": {
   "display_name": "Python [conda env:stock-venv]",
   "language": "python",
   "name": "conda-env-stock-venv-py"
  },
  "language_info": {
   "codemirror_mode": {
    "name": "ipython",
    "version": 3
   },
   "file_extension": ".py",
   "mimetype": "text/x-python",
   "name": "python",
   "nbconvert_exporter": "python",
   "pygments_lexer": "ipython3",
   "version": "3.7.5"
  }
 },
 "nbformat": 4,
 "nbformat_minor": 1
}
