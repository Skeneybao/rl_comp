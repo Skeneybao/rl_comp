{
 "cells": [
  {
   "cell_type": "markdown",
   "metadata": {
    "colab_type": "text",
    "id": "view-in-github"
   },
   "source": [
    "<a href=\"https://colab.research.google.com/github/Skeneybao/rl_comp/blob/main/dqn.ipynb\" target=\"_parent\"><img src=\"https://colab.research.google.com/assets/colab-badge.svg\" alt=\"Open In Colab\"/></a>"
   ]
  },
  {
   "cell_type": "code",
   "execution_count": 16,
   "metadata": {
    "ExecuteTime": {
     "end_time": "2024-01-04T09:50:13.788818Z",
     "start_time": "2024-01-04T09:50:13.786511Z"
    },
    "id": "Wd0SRH3-yAeD"
   },
   "outputs": [],
   "source": [
    "import tqdm\n",
    "import pandas as pd\n",
    "import numpy as np"
   ]
  },
  {
   "cell_type": "code",
   "execution_count": 17,
   "metadata": {
    "ExecuteTime": {
     "end_time": "2024-01-04T09:50:13.987254Z",
     "start_time": "2024-01-04T09:50:13.984475Z"
    },
    "id": "cwjOeW7ozDl1"
   },
   "outputs": [],
   "source": [
    "from training.env.trainingEnv import TrainingStockEnv\n",
    "from env.stock_raw.utils import Order"
   ]
  },
  {
   "cell_type": "code",
   "execution_count": 101,
   "metadata": {
    "ExecuteTime": {
     "end_time": "2024-01-04T09:53:29.872050Z",
     "start_time": "2024-01-04T09:53:29.824739Z"
    },
    "scrolled": true
   },
   "outputs": [
    {
     "name": "stdout",
     "output_type": "stream",
     "text": [
      "2024-01-04 17:53:29,868 - rl-comp - INFO - reset done, old data length: 0, new data length: 288098, new data code num: 100, current step count: 0, step done in this episode: 0\n"
     ]
    },
    {
     "data": {
      "text/plain": [
       "{'serverTime': 93001659.0,\n",
       " 'eventTime': 93001801.0,\n",
       " 'code': 2.0,\n",
       " 'signal0': 0.9361788708075631,\n",
       " 'signal1': 0.0,\n",
       " 'signal2': 0.0,\n",
       " 'ap0': 4599.908,\n",
       " 'bp0': 4589.650000000001,\n",
       " 'av0': 5.0,\n",
       " 'bv0': 1.0,\n",
       " 'ap1': 4603.335,\n",
       " 'bp1': 4586.223,\n",
       " 'av1': 1.0,\n",
       " 'bv1': 1.0,\n",
       " 'ap2': 4604.554,\n",
       " 'bp2': 4586.2,\n",
       " 'av2': 2.0,\n",
       " 'bv2': 4.0,\n",
       " 'ap3': 4604.577,\n",
       " 'bp3': 4583.900000000001,\n",
       " 'av3': 2.0,\n",
       " 'bv3': 3.0,\n",
       " 'ap4': 4606.900000000001,\n",
       " 'bp4': 4581.876,\n",
       " 'av4': 5.0,\n",
       " 'bv4': 3.0,\n",
       " 'code_net_position': 0,\n",
       " 'ap0_t0': 4599.908,\n",
       " 'code_pnl': 0.0,\n",
       " 'code_cash_pnl': 0.0,\n",
       " 'code_positional_pnl': 0.0,\n",
       " 'code_handling_fee': 0.0,\n",
       " 'day_pnl': 0.0,\n",
       " 'day_handling_fee': 0.0}"
      ]
     },
     "execution_count": 101,
     "metadata": {},
     "output_type": "execute_result"
    }
   ],
   "source": [
    "env = TrainingStockEnv(mode='ordered', data_path= '/home/rl-comp/Git/rl_comp/env/stock_raw/data')\n",
    "obs, _ , info = env.reset()\n",
    "obs"
   ]
  },
  {
   "cell_type": "code",
   "execution_count": 19,
   "metadata": {
    "ExecuteTime": {
     "end_time": "2024-01-04T09:50:14.564354Z",
     "start_time": "2024-01-04T09:50:14.560875Z"
    }
   },
   "outputs": [
    {
     "data": {
      "text/plain": [
       "{'code_pnl': 0.0,\n",
       " 'code_cash_pnl': 0.0,\n",
       " 'code_positional_pnl': 0.0,\n",
       " 'code_handling_fee': 0.0,\n",
       " 'day_pnl': 0.0,\n",
       " 'day_handling_fee': 0.0,\n",
       " 'code_net_position': 0,\n",
       " 'ap0_t0': 2566.34}"
      ]
     },
     "execution_count": 19,
     "metadata": {},
     "output_type": "execute_result"
    }
   ],
   "source": [
    "info"
   ]
  },
  {
   "cell_type": "code",
   "execution_count": 121,
   "metadata": {
    "ExecuteTime": {
     "end_time": "2024-01-04T09:54:02.763786Z",
     "start_time": "2024-01-04T09:54:02.759700Z"
    }
   },
   "outputs": [
    {
     "name": "stderr",
     "output_type": "stream",
     "text": [
      "100%|██████████████████████████████████████████████████████████████████████████████████████████████████████████████████████████████████████████████████████| 10/10 [00:00<00:00, 40291.10it/s]\n"
     ]
    }
   ],
   "source": [
    "for i in tqdm.trange(10):\n",
    "    obs, _, info = env.step([1, 0, 0])"
   ]
  },
  {
   "cell_type": "code",
   "execution_count": 218,
   "metadata": {
    "ExecuteTime": {
     "end_time": "2024-01-04T09:55:56.833406Z",
     "start_time": "2024-01-04T09:55:56.830748Z"
    }
   },
   "outputs": [],
   "source": [
    " obs, _, info = env.step([1, 0, 0])"
   ]
  },
  {
   "cell_type": "code",
   "execution_count": 219,
   "metadata": {
    "ExecuteTime": {
     "end_time": "2024-01-04T09:55:57.051909Z",
     "start_time": "2024-01-04T09:55:57.048264Z"
    }
   },
   "outputs": [
    {
     "data": {
      "text/plain": [
       "{'serverTime': 93039872.0,\n",
       " 'eventTime': 93039960.0,\n",
       " 'code': 5.0,\n",
       " 'signal0': -1.024143575905187,\n",
       " 'signal1': -0.2939627130219051,\n",
       " 'signal2': -0.1775603935452753,\n",
       " 'ap0': 4341.043000000001,\n",
       " 'bp0': 4324.138,\n",
       " 'av0': 2.0,\n",
       " 'bv0': 5.0,\n",
       " 'ap1': 4341.066,\n",
       " 'bp1': 4324.092,\n",
       " 'av1': 6.0,\n",
       " 'bv1': 2.0,\n",
       " 'ap2': 4341.112,\n",
       " 'bp2': 4324.023,\n",
       " 'av2': 1.0,\n",
       " 'bv2': 3.0,\n",
       " 'ap3': 4341.1810000000005,\n",
       " 'bp3': 4324.0,\n",
       " 'av3': 4.0,\n",
       " 'bv3': 26.0,\n",
       " 'ap4': 4341.296,\n",
       " 'bp4': 4321.7,\n",
       " 'av4': 5.0,\n",
       " 'bv4': 10.0,\n",
       " 'code_net_position': 0,\n",
       " 'ap0_t0': 4333.2,\n",
       " 'code_pnl': 0.0,\n",
       " 'code_cash_pnl': 0.0,\n",
       " 'code_positional_pnl': 0.0,\n",
       " 'code_handling_fee': 0.0,\n",
       " 'day_pnl': 0.0,\n",
       " 'day_handling_fee': 0.0}"
      ]
     },
     "execution_count": 219,
     "metadata": {},
     "output_type": "execute_result"
    }
   ],
   "source": [
    "obs"
   ]
  },
  {
   "cell_type": "code",
   "execution_count": null,
   "metadata": {},
   "outputs": [],
   "source": []
  },
  {
   "cell_type": "code",
   "execution_count": 12,
   "metadata": {
    "ExecuteTime": {
     "end_time": "2024-01-04T09:47:17.334196Z",
     "start_time": "2024-01-04T09:47:17.331654Z"
    }
   },
   "outputs": [],
   "source": [
    "env._parquetFile.filename = '/home/rl-comp/Git/rl_comp/env/stock_raw/data/20200220'"
   ]
  },
  {
   "cell_type": "code",
   "execution_count": 14,
   "metadata": {
    "ExecuteTime": {
     "end_time": "2024-01-04T09:47:25.209326Z",
     "start_time": "2024-01-04T09:47:25.140706Z"
    }
   },
   "outputs": [],
   "source": [
    "env._parquetFile.load()"
   ]
  },
  {
   "cell_type": "code",
   "execution_count": 15,
   "metadata": {
    "ExecuteTime": {
     "end_time": "2024-01-04T09:47:26.567757Z",
     "start_time": "2024-01-04T09:47:26.548824Z"
    }
   },
   "outputs": [
    {
     "data": {
      "text/html": [
       "<div>\n",
       "<style scoped>\n",
       "    .dataframe tbody tr th:only-of-type {\n",
       "        vertical-align: middle;\n",
       "    }\n",
       "\n",
       "    .dataframe tbody tr th {\n",
       "        vertical-align: top;\n",
       "    }\n",
       "\n",
       "    .dataframe thead th {\n",
       "        text-align: right;\n",
       "    }\n",
       "</style>\n",
       "<table border=\"1\" class=\"dataframe\">\n",
       "  <thead>\n",
       "    <tr style=\"text-align: right;\">\n",
       "      <th></th>\n",
       "      <th>serverTime</th>\n",
       "      <th>bidPx1</th>\n",
       "      <th>bidPx2</th>\n",
       "      <th>bidPx3</th>\n",
       "      <th>bidPx4</th>\n",
       "      <th>bidPx5</th>\n",
       "      <th>bidVlm1</th>\n",
       "      <th>bidVlm2</th>\n",
       "      <th>bidVlm3</th>\n",
       "      <th>bidVlm4</th>\n",
       "      <th>...</th>\n",
       "      <th>askVlm1</th>\n",
       "      <th>askV1m2</th>\n",
       "      <th>askVlm3</th>\n",
       "      <th>askV1m4</th>\n",
       "      <th>askV1m5</th>\n",
       "      <th>code</th>\n",
       "      <th>signal0</th>\n",
       "      <th>signal1</th>\n",
       "      <th>signal2</th>\n",
       "      <th>eventTime</th>\n",
       "    </tr>\n",
       "  </thead>\n",
       "  <tbody>\n",
       "    <tr>\n",
       "      <th>0</th>\n",
       "      <td>93001659.0</td>\n",
       "      <td>4589.650</td>\n",
       "      <td>4586.223</td>\n",
       "      <td>4586.200</td>\n",
       "      <td>4583.900</td>\n",
       "      <td>4581.876</td>\n",
       "      <td>1.0</td>\n",
       "      <td>1.0</td>\n",
       "      <td>4.0</td>\n",
       "      <td>3.0</td>\n",
       "      <td>...</td>\n",
       "      <td>5.0</td>\n",
       "      <td>1.0</td>\n",
       "      <td>2.0</td>\n",
       "      <td>2.0</td>\n",
       "      <td>5.0</td>\n",
       "      <td>2.0</td>\n",
       "      <td>0.936179</td>\n",
       "      <td>0.000000</td>\n",
       "      <td>0.000000</td>\n",
       "      <td>93001801.0</td>\n",
       "    </tr>\n",
       "    <tr>\n",
       "      <th>1</th>\n",
       "      <td>93004818.0</td>\n",
       "      <td>4606.049</td>\n",
       "      <td>4605.911</td>\n",
       "      <td>4599.816</td>\n",
       "      <td>4599.793</td>\n",
       "      <td>4599.655</td>\n",
       "      <td>15.0</td>\n",
       "      <td>1.0</td>\n",
       "      <td>5.0</td>\n",
       "      <td>12.0</td>\n",
       "      <td>...</td>\n",
       "      <td>5.0</td>\n",
       "      <td>1.0</td>\n",
       "      <td>10.0</td>\n",
       "      <td>8.0</td>\n",
       "      <td>1.0</td>\n",
       "      <td>2.0</td>\n",
       "      <td>0.060405</td>\n",
       "      <td>-1.784940</td>\n",
       "      <td>-3.466259</td>\n",
       "      <td>93004880.0</td>\n",
       "    </tr>\n",
       "    <tr>\n",
       "      <th>2</th>\n",
       "      <td>93009335.0</td>\n",
       "      <td>4613.639</td>\n",
       "      <td>4613.616</td>\n",
       "      <td>4613.547</td>\n",
       "      <td>4613.455</td>\n",
       "      <td>4610.327</td>\n",
       "      <td>2.0</td>\n",
       "      <td>4.0</td>\n",
       "      <td>5.0</td>\n",
       "      <td>8.0</td>\n",
       "      <td>...</td>\n",
       "      <td>1.0</td>\n",
       "      <td>1.0</td>\n",
       "      <td>1.0</td>\n",
       "      <td>26.0</td>\n",
       "      <td>1.0</td>\n",
       "      <td>2.0</td>\n",
       "      <td>-4.298250</td>\n",
       "      <td>-1.480759</td>\n",
       "      <td>-0.756748</td>\n",
       "      <td>93009990.0</td>\n",
       "    </tr>\n",
       "    <tr>\n",
       "      <th>3</th>\n",
       "      <td>93014587.0</td>\n",
       "      <td>4613.639</td>\n",
       "      <td>4613.616</td>\n",
       "      <td>4613.547</td>\n",
       "      <td>4613.455</td>\n",
       "      <td>4610.327</td>\n",
       "      <td>2.0</td>\n",
       "      <td>4.0</td>\n",
       "      <td>5.0</td>\n",
       "      <td>8.0</td>\n",
       "      <td>...</td>\n",
       "      <td>1.0</td>\n",
       "      <td>1.0</td>\n",
       "      <td>1.0</td>\n",
       "      <td>1.0</td>\n",
       "      <td>26.0</td>\n",
       "      <td>2.0</td>\n",
       "      <td>-2.768848</td>\n",
       "      <td>-1.614230</td>\n",
       "      <td>-0.794967</td>\n",
       "      <td>93015000.0</td>\n",
       "    </tr>\n",
       "    <tr>\n",
       "      <th>4</th>\n",
       "      <td>93019851.0</td>\n",
       "      <td>4606.923</td>\n",
       "      <td>4599.747</td>\n",
       "      <td>4599.678</td>\n",
       "      <td>4599.655</td>\n",
       "      <td>4595.400</td>\n",
       "      <td>2.0</td>\n",
       "      <td>2.0</td>\n",
       "      <td>6.0</td>\n",
       "      <td>9.0</td>\n",
       "      <td>...</td>\n",
       "      <td>10.0</td>\n",
       "      <td>1.0</td>\n",
       "      <td>1.0</td>\n",
       "      <td>1.0</td>\n",
       "      <td>1.0</td>\n",
       "      <td>2.0</td>\n",
       "      <td>-4.551637</td>\n",
       "      <td>-1.715699</td>\n",
       "      <td>-1.139920</td>\n",
       "      <td>93020020.0</td>\n",
       "    </tr>\n",
       "    <tr>\n",
       "      <th>...</th>\n",
       "      <td>...</td>\n",
       "      <td>...</td>\n",
       "      <td>...</td>\n",
       "      <td>...</td>\n",
       "      <td>...</td>\n",
       "      <td>...</td>\n",
       "      <td>...</td>\n",
       "      <td>...</td>\n",
       "      <td>...</td>\n",
       "      <td>...</td>\n",
       "      <td>...</td>\n",
       "      <td>...</td>\n",
       "      <td>...</td>\n",
       "      <td>...</td>\n",
       "      <td>...</td>\n",
       "      <td>...</td>\n",
       "      <td>...</td>\n",
       "      <td>...</td>\n",
       "      <td>...</td>\n",
       "      <td>...</td>\n",
       "      <td>...</td>\n",
       "    </tr>\n",
       "    <tr>\n",
       "      <th>2877</th>\n",
       "      <td>145654673.0</td>\n",
       "      <td>4593.560</td>\n",
       "      <td>4593.330</td>\n",
       "      <td>4593.238</td>\n",
       "      <td>4592.893</td>\n",
       "      <td>4592.870</td>\n",
       "      <td>1.0</td>\n",
       "      <td>2.0</td>\n",
       "      <td>1.0</td>\n",
       "      <td>1.0</td>\n",
       "      <td>...</td>\n",
       "      <td>77.0</td>\n",
       "      <td>16.0</td>\n",
       "      <td>3.0</td>\n",
       "      <td>20.0</td>\n",
       "      <td>1.0</td>\n",
       "      <td>2.0</td>\n",
       "      <td>-0.010410</td>\n",
       "      <td>-0.227317</td>\n",
       "      <td>-0.302971</td>\n",
       "      <td>145945000.0</td>\n",
       "    </tr>\n",
       "    <tr>\n",
       "      <th>2878</th>\n",
       "      <td>145654673.0</td>\n",
       "      <td>4593.560</td>\n",
       "      <td>4593.330</td>\n",
       "      <td>4593.238</td>\n",
       "      <td>4592.893</td>\n",
       "      <td>4592.870</td>\n",
       "      <td>1.0</td>\n",
       "      <td>2.0</td>\n",
       "      <td>1.0</td>\n",
       "      <td>1.0</td>\n",
       "      <td>...</td>\n",
       "      <td>77.0</td>\n",
       "      <td>16.0</td>\n",
       "      <td>3.0</td>\n",
       "      <td>20.0</td>\n",
       "      <td>1.0</td>\n",
       "      <td>2.0</td>\n",
       "      <td>-0.010410</td>\n",
       "      <td>-0.352769</td>\n",
       "      <td>-0.350370</td>\n",
       "      <td>145951000.0</td>\n",
       "    </tr>\n",
       "    <tr>\n",
       "      <th>2879</th>\n",
       "      <td>145654673.0</td>\n",
       "      <td>4593.560</td>\n",
       "      <td>4593.330</td>\n",
       "      <td>4593.238</td>\n",
       "      <td>4592.893</td>\n",
       "      <td>4592.870</td>\n",
       "      <td>1.0</td>\n",
       "      <td>2.0</td>\n",
       "      <td>1.0</td>\n",
       "      <td>1.0</td>\n",
       "      <td>...</td>\n",
       "      <td>77.0</td>\n",
       "      <td>16.0</td>\n",
       "      <td>3.0</td>\n",
       "      <td>20.0</td>\n",
       "      <td>1.0</td>\n",
       "      <td>2.0</td>\n",
       "      <td>-0.010410</td>\n",
       "      <td>-0.198350</td>\n",
       "      <td>-0.291441</td>\n",
       "      <td>145954000.0</td>\n",
       "    </tr>\n",
       "    <tr>\n",
       "      <th>2880</th>\n",
       "      <td>145654673.0</td>\n",
       "      <td>4593.560</td>\n",
       "      <td>4593.330</td>\n",
       "      <td>4593.238</td>\n",
       "      <td>4592.893</td>\n",
       "      <td>4592.870</td>\n",
       "      <td>1.0</td>\n",
       "      <td>2.0</td>\n",
       "      <td>1.0</td>\n",
       "      <td>1.0</td>\n",
       "      <td>...</td>\n",
       "      <td>77.0</td>\n",
       "      <td>16.0</td>\n",
       "      <td>3.0</td>\n",
       "      <td>20.0</td>\n",
       "      <td>1.0</td>\n",
       "      <td>2.0</td>\n",
       "      <td>-0.010410</td>\n",
       "      <td>-0.203760</td>\n",
       "      <td>-0.355881</td>\n",
       "      <td>150000000.0</td>\n",
       "    </tr>\n",
       "    <tr>\n",
       "      <th>2881</th>\n",
       "      <td>93001659.0</td>\n",
       "      <td>4328.623</td>\n",
       "      <td>4328.600</td>\n",
       "      <td>4324.000</td>\n",
       "      <td>4321.700</td>\n",
       "      <td>4314.800</td>\n",
       "      <td>2.0</td>\n",
       "      <td>24.0</td>\n",
       "      <td>11.0</td>\n",
       "      <td>10.0</td>\n",
       "      <td>...</td>\n",
       "      <td>1.0</td>\n",
       "      <td>4.0</td>\n",
       "      <td>2.0</td>\n",
       "      <td>1.0</td>\n",
       "      <td>38.0</td>\n",
       "      <td>5.0</td>\n",
       "      <td>0.963608</td>\n",
       "      <td>0.000000</td>\n",
       "      <td>0.000000</td>\n",
       "      <td>93001801.0</td>\n",
       "    </tr>\n",
       "  </tbody>\n",
       "</table>\n",
       "<p>2882 rows × 26 columns</p>\n",
       "</div>"
      ],
      "text/plain": [
       "       serverTime    bidPx1    bidPx2    bidPx3    bidPx4    bidPx5  bidVlm1  \\\n",
       "0      93001659.0  4589.650  4586.223  4586.200  4583.900  4581.876      1.0   \n",
       "1      93004818.0  4606.049  4605.911  4599.816  4599.793  4599.655     15.0   \n",
       "2      93009335.0  4613.639  4613.616  4613.547  4613.455  4610.327      2.0   \n",
       "3      93014587.0  4613.639  4613.616  4613.547  4613.455  4610.327      2.0   \n",
       "4      93019851.0  4606.923  4599.747  4599.678  4599.655  4595.400      2.0   \n",
       "...           ...       ...       ...       ...       ...       ...      ...   \n",
       "2877  145654673.0  4593.560  4593.330  4593.238  4592.893  4592.870      1.0   \n",
       "2878  145654673.0  4593.560  4593.330  4593.238  4592.893  4592.870      1.0   \n",
       "2879  145654673.0  4593.560  4593.330  4593.238  4592.893  4592.870      1.0   \n",
       "2880  145654673.0  4593.560  4593.330  4593.238  4592.893  4592.870      1.0   \n",
       "2881   93001659.0  4328.623  4328.600  4324.000  4321.700  4314.800      2.0   \n",
       "\n",
       "      bidVlm2  bidVlm3  bidVlm4  ...  askVlm1  askV1m2  askVlm3  askV1m4  \\\n",
       "0         1.0      4.0      3.0  ...      5.0      1.0      2.0      2.0   \n",
       "1         1.0      5.0     12.0  ...      5.0      1.0     10.0      8.0   \n",
       "2         4.0      5.0      8.0  ...      1.0      1.0      1.0     26.0   \n",
       "3         4.0      5.0      8.0  ...      1.0      1.0      1.0      1.0   \n",
       "4         2.0      6.0      9.0  ...     10.0      1.0      1.0      1.0   \n",
       "...       ...      ...      ...  ...      ...      ...      ...      ...   \n",
       "2877      2.0      1.0      1.0  ...     77.0     16.0      3.0     20.0   \n",
       "2878      2.0      1.0      1.0  ...     77.0     16.0      3.0     20.0   \n",
       "2879      2.0      1.0      1.0  ...     77.0     16.0      3.0     20.0   \n",
       "2880      2.0      1.0      1.0  ...     77.0     16.0      3.0     20.0   \n",
       "2881     24.0     11.0     10.0  ...      1.0      4.0      2.0      1.0   \n",
       "\n",
       "      askV1m5  code   signal0   signal1   signal2    eventTime  \n",
       "0         5.0   2.0  0.936179  0.000000  0.000000   93001801.0  \n",
       "1         1.0   2.0  0.060405 -1.784940 -3.466259   93004880.0  \n",
       "2         1.0   2.0 -4.298250 -1.480759 -0.756748   93009990.0  \n",
       "3        26.0   2.0 -2.768848 -1.614230 -0.794967   93015000.0  \n",
       "4         1.0   2.0 -4.551637 -1.715699 -1.139920   93020020.0  \n",
       "...       ...   ...       ...       ...       ...          ...  \n",
       "2877      1.0   2.0 -0.010410 -0.227317 -0.302971  145945000.0  \n",
       "2878      1.0   2.0 -0.010410 -0.352769 -0.350370  145951000.0  \n",
       "2879      1.0   2.0 -0.010410 -0.198350 -0.291441  145954000.0  \n",
       "2880      1.0   2.0 -0.010410 -0.203760 -0.355881  150000000.0  \n",
       "2881     38.0   5.0  0.963608  0.000000  0.000000   93001801.0  \n",
       "\n",
       "[2882 rows x 26 columns]"
      ]
     },
     "execution_count": 15,
     "metadata": {},
     "output_type": "execute_result"
    }
   ],
   "source": [
    "env._parquetFile.data[:2882]"
   ]
  },
  {
   "cell_type": "code",
   "execution_count": null,
   "metadata": {
    "ExecuteTime": {
     "end_time": "2024-01-04T09:39:30.427332Z",
     "start_time": "2024-01-04T09:39:30.427322Z"
    }
   },
   "outputs": [],
   "source": [
    "None and True"
   ]
  },
  {
   "cell_type": "code",
   "execution_count": null,
   "metadata": {
    "ExecuteTime": {
     "end_time": "2024-01-04T09:39:30.428245Z",
     "start_time": "2024-01-04T09:39:30.428236Z"
    }
   },
   "outputs": [],
   "source": [
    "a =True and  None"
   ]
  },
  {
   "cell_type": "code",
   "execution_count": null,
   "metadata": {
    "ExecuteTime": {
     "end_time": "2024-01-04T09:39:30.429277Z",
     "start_time": "2024-01-04T09:39:30.429268Z"
    }
   },
   "outputs": [],
   "source": [
    "print(a)"
   ]
  },
  {
   "cell_type": "code",
   "execution_count": null,
   "metadata": {
    "ExecuteTime": {
     "end_time": "2024-01-04T09:39:30.430268Z",
     "start_time": "2024-01-04T09:39:30.430254Z"
    }
   },
   "outputs": [],
   "source": [
    "import time\n",
    "time.localtime()"
   ]
  },
  {
   "cell_type": "code",
   "execution_count": null,
   "metadata": {
    "ExecuteTime": {
     "end_time": "2024-01-04T09:39:30.431449Z",
     "start_time": "2024-01-04T09:39:30.431439Z"
    }
   },
   "outputs": [],
   "source": [
    "2881 * 5"
   ]
  },
  {
   "cell_type": "code",
   "execution_count": null,
   "metadata": {
    "ExecuteTime": {
     "end_time": "2024-01-04T09:39:30.432487Z",
     "start_time": "2024-01-04T09:39:30.432477Z"
    }
   },
   "outputs": [],
   "source": [
    "env._current_env.date"
   ]
  },
  {
   "cell_type": "code",
   "execution_count": null,
   "metadata": {},
   "outputs": [],
   "source": []
  }
 ],
 "metadata": {
  "colab": {
   "authorship_tag": "ABX9TyPMt5xfy+0azi+nPhABTSL0",
   "include_colab_link": true,
   "provenance": [],
   "toc_visible": true
  },
  "kernelspec": {
   "display_name": "Python [conda env:stock-venv]",
   "language": "python",
   "name": "conda-env-stock-venv-py"
  },
  "language_info": {
   "codemirror_mode": {
    "name": "ipython",
    "version": 3
   },
   "file_extension": ".py",
   "mimetype": "text/x-python",
   "name": "python",
   "nbconvert_exporter": "python",
   "pygments_lexer": "ipython3",
   "version": "3.7.5"
  }
 },
 "nbformat": 4,
 "nbformat_minor": 1
}
