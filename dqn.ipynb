{
 "cells": [
  {
   "cell_type": "markdown",
   "metadata": {
    "colab_type": "text",
    "id": "view-in-github"
   },
   "source": [
    "<a href=\"https://colab.research.google.com/github/Skeneybao/rl_comp/blob/main/dqn.ipynb\" target=\"_parent\"><img src=\"https://colab.research.google.com/assets/colab-badge.svg\" alt=\"Open In Colab\"/></a>"
   ]
  },
  {
   "cell_type": "code",
   "execution_count": 1,
   "metadata": {
    "ExecuteTime": {
     "end_time": "2024-01-10T11:49:28.176865Z",
     "start_time": "2024-01-10T11:49:27.805460Z"
    },
    "id": "Wd0SRH3-yAeD"
   },
   "outputs": [],
   "source": [
    "import tqdm\n",
    "import pandas as pd\n",
    "import numpy as np"
   ]
  },
  {
   "cell_type": "code",
   "execution_count": 2,
   "metadata": {
    "ExecuteTime": {
     "end_time": "2024-01-10T11:49:29.567153Z",
     "start_time": "2024-01-10T11:49:28.179054Z"
    },
    "id": "cwjOeW7ozDl1"
   },
   "outputs": [
    {
     "name": "stderr",
     "output_type": "stream",
     "text": [
      "/home/rl-comp/miniconda3/envs/stock-venv/lib/python3.7/site-packages/tqdm/auto.py:21: TqdmWarning: IProgress not found. Please update jupyter and ipywidgets. See https://ipywidgets.readthedocs.io/en/stable/user_install.html\n",
      "  from .autonotebook import tqdm as notebook_tqdm\n"
     ]
    },
    {
     "name": "stdout",
     "output_type": "stream",
     "text": [
      "/home/rl-comp/Git/rl_comp\n"
     ]
    }
   ],
   "source": [
    "from training.env.trainingEnv import TrainingStockEnv\n",
    "from env.stock_raw.utils import Order"
   ]
  },
  {
   "cell_type": "code",
   "execution_count": 8,
   "metadata": {
    "ExecuteTime": {
     "end_time": "2024-01-10T11:50:15.571251Z",
     "start_time": "2024-01-10T11:50:15.503809Z"
    },
    "scrolled": false
   },
   "outputs": [
    {
     "name": "stderr",
     "output_type": "stream",
     "text": [
      "2024-01-10 19:50:15,567 - pid 480657 - MainProcess - trainingEnv - INFO - reset done, old data length: 0, new data length: 288098, new data code num: 100, current step count: 0, step done in this episode: 0\n"
     ]
    },
    {
     "data": {
      "text/plain": [
       "{'serverTime': 93001659.0,\n",
       " 'eventTime': 93001801.0,\n",
       " 'code': 2.0,\n",
       " 'signal0': 0.9361788708075631,\n",
       " 'signal1': 0.0,\n",
       " 'signal2': 0.0,\n",
       " 'ap0': 4599.908,\n",
       " 'bp0': 4589.650000000001,\n",
       " 'av0': 5.0,\n",
       " 'bv0': 1.0,\n",
       " 'ap1': 4603.335,\n",
       " 'bp1': 4586.223,\n",
       " 'av1': 1.0,\n",
       " 'bv1': 1.0,\n",
       " 'ap2': 4604.554,\n",
       " 'bp2': 4586.2,\n",
       " 'av2': 2.0,\n",
       " 'bv2': 4.0,\n",
       " 'ap3': 4604.577,\n",
       " 'bp3': 4583.900000000001,\n",
       " 'av3': 2.0,\n",
       " 'bv3': 3.0,\n",
       " 'ap4': 4606.900000000001,\n",
       " 'bp4': 4581.876,\n",
       " 'av4': 5.0,\n",
       " 'bv4': 3.0,\n",
       " 'code_net_position': 0,\n",
       " 'ap0_t0': 4599.908,\n",
       " 'code_pnl': 0.0,\n",
       " 'code_cash_pnl': 0.0,\n",
       " 'code_positional_pnl': 0.0,\n",
       " 'code_handling_fee': 0.0,\n",
       " 'day_pnl': 0.0,\n",
       " 'day_handling_fee': 0.0}"
      ]
     },
     "execution_count": 8,
     "metadata": {},
     "output_type": "execute_result"
    }
   ],
   "source": [
    "env = TrainingStockEnv(mode='ordered', data_path= '/home/rl-comp/Git/rl_comp/env/stock_raw/data')\n",
    "obs, _ , info = env.reset()\n",
    "obs"
   ]
  },
  {
   "cell_type": "code",
   "execution_count": 9,
   "metadata": {
    "ExecuteTime": {
     "end_time": "2024-01-10T11:50:18.160634Z",
     "start_time": "2024-01-10T11:50:18.157853Z"
    }
   },
   "outputs": [],
   "source": [
    " obs, _, info = env.step([0, 1, 100000])"
   ]
  },
  {
   "cell_type": "code",
   "execution_count": 10,
   "metadata": {
    "ExecuteTime": {
     "end_time": "2024-01-10T11:50:19.946116Z",
     "start_time": "2024-01-10T11:50:19.941231Z"
    }
   },
   "outputs": [
    {
     "data": {
      "text/plain": [
       "{'serverTime': 93004818.0,\n",
       " 'eventTime': 93004880.0,\n",
       " 'code': 2.0,\n",
       " 'signal0': 0.06040532250349382,\n",
       " 'signal1': -1.7849400355777338,\n",
       " 'signal2': -3.4662585069980576,\n",
       " 'ap0': 4606.900000000001,\n",
       " 'bp0': 4606.049,\n",
       " 'av0': 5.0,\n",
       " 'bv0': 15.0,\n",
       " 'ap1': 4607.912,\n",
       " 'bp1': 4605.911,\n",
       " 'av1': 1.0,\n",
       " 'bv1': 1.0,\n",
       " 'ap2': 4609.2,\n",
       " 'bp2': 4599.816,\n",
       " 'av2': 10.0,\n",
       " 'bv2': 5.0,\n",
       " 'ap3': 4611.5,\n",
       " 'bp3': 4599.793000000001,\n",
       " 'av3': 8.0,\n",
       " 'bv3': 12.0,\n",
       " 'ap4': 4613.57,\n",
       " 'bp4': 4599.655000000001,\n",
       " 'av4': 1.0,\n",
       " 'bv4': 9.0,\n",
       " 'code_net_position': 1,\n",
       " 'ap0_t0': 4599.908,\n",
       " 'code_pnl': 62.445064400000874,\n",
       " 'code_cash_pnl': -45999.08,\n",
       " 'code_positional_pnl': 46064.745,\n",
       " 'code_handling_fee': 3.2199356000000003,\n",
       " 'day_pnl': 0.0,\n",
       " 'day_handling_fee': 0.0}"
      ]
     },
     "execution_count": 10,
     "metadata": {},
     "output_type": "execute_result"
    }
   ],
   "source": [
    "obs"
   ]
  },
  {
   "cell_type": "code",
   "execution_count": null,
   "metadata": {},
   "outputs": [],
   "source": []
  },
  {
   "cell_type": "code",
   "execution_count": null,
   "metadata": {
    "ExecuteTime": {
     "end_time": "2024-01-04T09:47:17.334196Z",
     "start_time": "2024-01-04T09:47:17.331654Z"
    }
   },
   "outputs": [],
   "source": [
    "env._parquetFile.filename = '/home/rl-comp/Git/rl_comp/env/stock_raw/data/20200220'"
   ]
  },
  {
   "cell_type": "code",
   "execution_count": null,
   "metadata": {
    "ExecuteTime": {
     "end_time": "2024-01-04T09:47:25.209326Z",
     "start_time": "2024-01-04T09:47:25.140706Z"
    }
   },
   "outputs": [],
   "source": [
    "env._parquetFile.load()"
   ]
  },
  {
   "cell_type": "code",
   "execution_count": null,
   "metadata": {
    "ExecuteTime": {
     "end_time": "2024-01-04T09:47:26.567757Z",
     "start_time": "2024-01-04T09:47:26.548824Z"
    }
   },
   "outputs": [],
   "source": [
    "env._parquetFile.data[:2882]"
   ]
  },
  {
   "cell_type": "code",
   "execution_count": null,
   "metadata": {
    "ExecuteTime": {
     "end_time": "2024-01-04T09:39:30.427332Z",
     "start_time": "2024-01-04T09:39:30.427322Z"
    }
   },
   "outputs": [],
   "source": [
    "None and True"
   ]
  },
  {
   "cell_type": "code",
   "execution_count": null,
   "metadata": {
    "ExecuteTime": {
     "end_time": "2024-01-04T09:39:30.428245Z",
     "start_time": "2024-01-04T09:39:30.428236Z"
    }
   },
   "outputs": [],
   "source": [
    "a =True and  None"
   ]
  },
  {
   "cell_type": "code",
   "execution_count": null,
   "metadata": {
    "ExecuteTime": {
     "end_time": "2024-01-04T09:39:30.429277Z",
     "start_time": "2024-01-04T09:39:30.429268Z"
    }
   },
   "outputs": [],
   "source": [
    "print(a)"
   ]
  },
  {
   "cell_type": "code",
   "execution_count": null,
   "metadata": {
    "ExecuteTime": {
     "end_time": "2024-01-04T09:39:30.430268Z",
     "start_time": "2024-01-04T09:39:30.430254Z"
    }
   },
   "outputs": [],
   "source": [
    "import time\n",
    "time.localtime()"
   ]
  },
  {
   "cell_type": "code",
   "execution_count": null,
   "metadata": {
    "ExecuteTime": {
     "end_time": "2024-01-04T09:39:30.431449Z",
     "start_time": "2024-01-04T09:39:30.431439Z"
    }
   },
   "outputs": [],
   "source": [
    "2881 * 5"
   ]
  },
  {
   "cell_type": "code",
   "execution_count": null,
   "metadata": {
    "ExecuteTime": {
     "end_time": "2024-01-04T09:39:30.432487Z",
     "start_time": "2024-01-04T09:39:30.432477Z"
    }
   },
   "outputs": [],
   "source": [
    "env._current_env.date"
   ]
  },
  {
   "cell_type": "code",
   "execution_count": null,
   "metadata": {},
   "outputs": [],
   "source": []
  }
 ],
 "metadata": {
  "colab": {
   "authorship_tag": "ABX9TyPMt5xfy+0azi+nPhABTSL0",
   "include_colab_link": true,
   "provenance": [],
   "toc_visible": true
  },
  "kernelspec": {
   "display_name": "Python [conda env:stock-venv]",
   "language": "python",
   "name": "conda-env-stock-venv-py"
  },
  "language_info": {
   "codemirror_mode": {
    "name": "ipython",
    "version": 3
   },
   "file_extension": ".py",
   "mimetype": "text/x-python",
   "name": "python",
   "nbconvert_exporter": "python",
   "pygments_lexer": "ipython3",
   "version": "3.7.5"
  }
 },
 "nbformat": 4,
 "nbformat_minor": 1
}
